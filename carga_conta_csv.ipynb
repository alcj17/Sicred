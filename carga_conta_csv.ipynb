{
 "cells": [
  {
   "cell_type": "code",
   "execution_count": 6,
   "id": "505941ff",
   "metadata": {},
   "outputs": [
    {
     "name": "stdout",
     "output_type": "stream",
     "text": [
      "+--------+--------------+------------+------------+\n",
      "|Id_conta|          Tipo|data_criacao|Id_associado|\n",
      "+--------+--------------+------------+------------+\n",
      "|       1|Conta Corrente|  02/01/2021|           1|\n",
      "|       2|Conta Corrente|  15/03/2019|           2|\n",
      "|       3|Conta Corrente|  16/07/2017|           3|\n",
      "|       4|Conta Corrente|  25/09/2016|           4|\n",
      "|       5|Conta Corrente|  12/11/2019|           5|\n",
      "|       6|Conta Corrente|  14/07/2020|           6|\n",
      "|       7|Conta Corrente|  23/03/2015|           7|\n",
      "|       8|Conta Corrente|  18/04/2017|           8|\n",
      "|       9|Conta Corrente|  26/02/2021|           9|\n",
      "|      10|Conta Corrente|  17/06/2019|          10|\n",
      "+--------+--------------+------------+------------+\n",
      "\n",
      "Iniciando a Carga no POstgresql\n",
      "+--------+--------------+------------+------------+\n",
      "|id_conta|          tipo|data_criacao|id_associado|\n",
      "+--------+--------------+------------+------------+\n",
      "|       1|Conta Corrente|  02/01/2021|           1|\n",
      "|       2|Conta Corrente|  15/03/2019|           2|\n",
      "|       3|Conta Corrente|  16/07/2017|           3|\n",
      "|       4|Conta Corrente|  25/09/2016|           4|\n",
      "|       5|Conta Corrente|  12/11/2019|           5|\n",
      "|       6|Conta Corrente|  14/07/2020|           6|\n",
      "|       7|Conta Corrente|  23/03/2015|           7|\n",
      "|       8|Conta Corrente|  18/04/2017|           8|\n",
      "|       9|Conta Corrente|  26/02/2021|           9|\n",
      "|      10|Conta Corrente|  17/06/2019|          10|\n",
      "+--------+--------------+------------+------------+\n",
      "\n"
     ]
    }
   ],
   "source": [
    "#!/usr/bin/env python\n",
    "# coding: utf-8\n",
    "#============================================================================================================\n",
    "# NOME DO SCRIPT: carga_conta_csv.py\n",
    "# FUNCAO: Importar dados para a tabela conta no postgresql\n",
    "#============================================================================================================\n",
    "# HISTORICO\n",
    "#\n",
    "#============================================================================================================\n",
    "\n",
    "import pyspark\n",
    "from pyspark.sql.functions import *\n",
    "from pyspark.sql.types import *\n",
    "from pyspark.sql import functions as Func\n",
    "from pyspark.sql import SparkSession\n",
    "\n",
    "spark = SparkSession.builder.appName(\"Importa\").getOrCreate()\n",
    "\n",
    "arq = spark.read.csv(\"C:\\Projetos\\Dados\\CONTA.csv\", header=True, inferSchema=True, sep=\";\")\n",
    "arq.show()\n",
    "\n",
    "grava_associado = arq.withColumnRenamed(\"ID\",\"ID\")\\\n",
    ".withColumnRenamed(\"Tipo\",\"Tipo\")\\\n",
    ".withColumnRenamed(\"data_criacao\",\"data_criacao\")\\\n",
    ".withColumnRenamed(\"id_associado\",\"id_associado\")\n",
    "\n",
    "\n",
    "\n",
    "#Iniciando leitura no Postgresql\n",
    "\n",
    "print(\"Iniciando a Carga no POstgresql\")\n",
    "\n",
    "# Data in existing table can be append using below\n",
    "\n",
    "resumo = spark.read.format(\"jdbc\").option(\"url\",\"jdbc:postgresql://localhost:5432/desafio\")\\\n",
    ".option(\"dbtable\",\"conta\").option(\"user\",\"postgres\")\\\n",
    ".option(\"password\",\"123\")\\\n",
    ".option(\"driver\",\"org.postgresql.Driver\").load()\n",
    "\n",
    "\n",
    "grava_associado.write.format(\"jdbc\")\\\n",
    ".option(\"driver\",\"org.postgresql.Driver\")\\\n",
    ".option(\"url\",\"jdbc:postgresql://localhost:5432/desafio\")\\\n",
    ".option(\"user\",\"postgres\")\\\n",
    ".option(\"password\",\"123\").mode('append').option(\"dbtable\",\"conta\").save()\n",
    "\n",
    "\n",
    "resumo.show()\n"
   ]
  },
  {
   "cell_type": "code",
   "execution_count": null,
   "id": "610bdec9",
   "metadata": {},
   "outputs": [],
   "source": []
  }
 ],
 "metadata": {
  "kernelspec": {
   "display_name": "Python 3 (ipykernel)",
   "language": "python",
   "name": "python3"
  },
  "language_info": {
   "codemirror_mode": {
    "name": "ipython",
    "version": 3
   },
   "file_extension": ".py",
   "mimetype": "text/x-python",
   "name": "python",
   "nbconvert_exporter": "python",
   "pygments_lexer": "ipython3",
   "version": "3.9.7"
  }
 },
 "nbformat": 4,
 "nbformat_minor": 5
}
