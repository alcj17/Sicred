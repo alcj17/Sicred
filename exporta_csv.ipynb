{
 "cells": [
  {
   "cell_type": "code",
   "execution_count": 9,
   "id": "c3d0dc97",
   "metadata": {},
   "outputs": [
    {
     "name": "stdout",
     "output_type": "stream",
     "text": [
      "+--------------+--------------------+---------------+-----------------------+-----------------------+--------------+-------------------+--------------------+-------------------+--------------+------------------+\n",
      "|nome_associado| sobrenome_associado|idade_associado|vlr_transacao_movimento|des_transacao_movimento|data_movimento|      numero_cartao|nome_impresso_cartao|data_criacao_cartao|    tipo_conta|data_criacao_conta|\n",
      "+--------------+--------------------+---------------+-----------------------+-----------------------+--------------+-------------------+--------------------+-------------------+--------------+------------------+\n",
      "|       Eduardo|Vinicius Marcelo ...|             50|                   15,9|                 lanche|    02/01/2022|5574 7903 1345 5496|Eduardo Vinicius ...|         12/11/2019|Conta Corrente|        12/11/2019|\n",
      "|        Martin|Heitor Ruan Corte...|             25|                  35,78|               loterica|    07/01/2022|4485 4100 4999 2537|Martin Heitor Rua...|         18/04/2017|Conta Corrente|        18/04/2017|\n",
      "|       Sabrina|   Ayla Simone Pinto|             39|                  45,98|                 livros|    22/01/2022|4485 1493 0944 0726|Sabrina Ayla Simo...|         23/03/2015|Conta Corrente|        23/03/2015|\n",
      "|       Eduardo|Vinicius Marcelo ...|             50|                   1109|              vestuario|    12/01/2022|5574 7903 1345 5496|Eduardo Vinicius ...|         12/11/2019|Conta Corrente|        12/11/2019|\n",
      "|       Lavinia|        Luna Freitas|             38|                 398,75|                 jantar|    06/02/2022|5108 6119 0111 9580|Lavinia Luna Freitas|         25/09/2016|Conta Corrente|        25/09/2016|\n",
      "|     Cristiane|         Bruna Souza|             53|                 402,38|                passeio|    25/01/2022|5248 0535 9875 7599|Cristiane Bruna S...|         14/07/2020|Conta Corrente|        14/07/2020|\n",
      "|     Francisca|     Andreia Freitas|             25|                 174,52|                    bar|    26/01/2022|5137 2647 7235 2917|Francisca Andreia...|         26/02/2021|Conta Corrente|        26/02/2021|\n",
      "|          Luiz|     Thiago Teixeira|             28|                 256,25|                 roupas|    31/01/2022|  3790 117604 51831|Luiz Thiago Teixeira|         16/07/2017|Conta Corrente|        16/07/2017|\n",
      "|         Elias|Matheus Heitor Du...|             42|                 458,74|                sapatos|    11/01/2022|4532 5429 2955 4863|Elias Matheus Hei...|         15/03/2019|Conta Corrente|        15/03/2019|\n",
      "|    Tom�s Andr|    Joaquim Monteiro|             56|                 698,52|                 bolsas|    25/01/2022|4453 2855 8693 0910|Tomas AndrE Joaqu...|         17/06/2019|Conta Corrente|        17/06/2019|\n",
      "|          Yuri|  Levi Claudio Porto|             35|                    674|               relogios|    01/02/2022|5180 4793 3841 0852|Yuri Levi Claudio...|         02/01/2021|Conta Corrente|        02/01/2021|\n",
      "|       Eduardo|Vinicius Marcelo ...|             50|                     23|                 lanche|    20/01/2022|5574 7903 1345 5496|Eduardo Vinicius ...|         12/11/2019|Conta Corrente|        12/11/2019|\n",
      "|       Lavinia|        Luna Freitas|             38|                    125|                    bar|    23/01/2022|5108 6119 0111 9580|Lavinia Luna Freitas|         25/09/2016|Conta Corrente|        25/09/2016|\n",
      "|       Sabrina|   Ayla Simone Pinto|             39|                 478,29|       compras internet|    06/02/2022|4485 1493 0944 0726|Sabrina Ayla Simo...|         23/03/2015|Conta Corrente|        23/03/2015|\n",
      "|     Cristiane|         Bruna Souza|             53|                 687,24|       compras internet|    11/02/2022|5248 0535 9875 7599|Cristiane Bruna S...|         14/07/2020|Conta Corrente|        14/07/2020|\n",
      "|        Martin|Heitor Ruan Corte...|             25|                 124,56|                    bar|    26/02/2022|4485 4100 4999 2537|Martin Heitor Rua...|         18/04/2017|Conta Corrente|        18/04/2017|\n",
      "|    Tom�s Andr|    Joaquim Monteiro|             56|                  85,24|                 contas|    16/02/2022|4453 2855 8693 0910|Tomas AndrE Joaqu...|         17/06/2019|Conta Corrente|        17/06/2019|\n",
      "|     Francisca|     Andreia Freitas|             25|                3698,12|                     tv|    13/03/2022|5137 2647 7235 2917|Francisca Andreia...|         26/02/2021|Conta Corrente|        26/02/2021|\n",
      "|         Elias|Matheus Heitor Du...|             42|                  45,12|                 lanche|    01/03/2022|4532 5429 2955 4863|Elias Matheus Hei...|         15/03/2019|Conta Corrente|        15/03/2019|\n",
      "|          Luiz|     Thiago Teixeira|             28|                 682,98|       compras internet|    02/03/2022|  3790 117604 51831|Luiz Thiago Teixeira|         16/07/2017|Conta Corrente|        16/07/2017|\n",
      "+--------------+--------------------+---------------+-----------------------+-----------------------+--------------+-------------------+--------------------+-------------------+--------------+------------------+\n",
      "only showing top 20 rows\n",
      "\n"
     ]
    },
    {
     "ename": "AnalysisException",
     "evalue": "path file:/C:/projetos/Exportados already exists.",
     "output_type": "error",
     "traceback": [
      "\u001b[1;31m---------------------------------------------------------------------------\u001b[0m",
      "\u001b[1;31mAnalysisException\u001b[0m                         Traceback (most recent call last)",
      "\u001b[1;32m~\\AppData\\Local\\Temp/ipykernel_9708/4275015889.py\u001b[0m in \u001b[0;36m<module>\u001b[1;34m\u001b[0m\n\u001b[0;32m     24\u001b[0m \u001b[0mDADOS_FINAIS\u001b[0m\u001b[1;33m.\u001b[0m\u001b[0mschema\u001b[0m\u001b[1;33m\u001b[0m\u001b[1;33m\u001b[0m\u001b[0m\n\u001b[0;32m     25\u001b[0m \u001b[1;33m\u001b[0m\u001b[0m\n\u001b[1;32m---> 26\u001b[1;33m \u001b[0mDADOS_FINAIS\u001b[0m\u001b[1;33m.\u001b[0m\u001b[0mwrite\u001b[0m\u001b[1;33m.\u001b[0m\u001b[0mformat\u001b[0m\u001b[1;33m(\u001b[0m\u001b[1;34m\"csv\"\u001b[0m\u001b[1;33m)\u001b[0m\u001b[1;33m.\u001b[0m\u001b[0msave\u001b[0m\u001b[1;33m(\u001b[0m\u001b[1;34m\"C:\\projetos\\Exportados\"\u001b[0m\u001b[1;33m)\u001b[0m\u001b[1;33m\u001b[0m\u001b[1;33m\u001b[0m\u001b[0m\n\u001b[0m\u001b[0;32m     27\u001b[0m \u001b[1;33m\u001b[0m\u001b[0m\n\u001b[0;32m     28\u001b[0m \u001b[1;33m\u001b[0m\u001b[0m\n",
      "\u001b[1;32mC:\\Spark\\python\\pyspark\\sql\\readwriter.py\u001b[0m in \u001b[0;36msave\u001b[1;34m(self, path, format, mode, partitionBy, **options)\u001b[0m\n\u001b[0;32m    738\u001b[0m             \u001b[0mself\u001b[0m\u001b[1;33m.\u001b[0m\u001b[0m_jwrite\u001b[0m\u001b[1;33m.\u001b[0m\u001b[0msave\u001b[0m\u001b[1;33m(\u001b[0m\u001b[1;33m)\u001b[0m\u001b[1;33m\u001b[0m\u001b[1;33m\u001b[0m\u001b[0m\n\u001b[0;32m    739\u001b[0m         \u001b[1;32melse\u001b[0m\u001b[1;33m:\u001b[0m\u001b[1;33m\u001b[0m\u001b[1;33m\u001b[0m\u001b[0m\n\u001b[1;32m--> 740\u001b[1;33m             \u001b[0mself\u001b[0m\u001b[1;33m.\u001b[0m\u001b[0m_jwrite\u001b[0m\u001b[1;33m.\u001b[0m\u001b[0msave\u001b[0m\u001b[1;33m(\u001b[0m\u001b[0mpath\u001b[0m\u001b[1;33m)\u001b[0m\u001b[1;33m\u001b[0m\u001b[1;33m\u001b[0m\u001b[0m\n\u001b[0m\u001b[0;32m    741\u001b[0m \u001b[1;33m\u001b[0m\u001b[0m\n\u001b[0;32m    742\u001b[0m     \u001b[1;33m@\u001b[0m\u001b[0msince\u001b[0m\u001b[1;33m(\u001b[0m\u001b[1;36m1.4\u001b[0m\u001b[1;33m)\u001b[0m\u001b[1;33m\u001b[0m\u001b[1;33m\u001b[0m\u001b[0m\n",
      "\u001b[1;32mC:\\Spark\\python\\lib\\py4j-0.10.9.3-src.zip\\py4j\\java_gateway.py\u001b[0m in \u001b[0;36m__call__\u001b[1;34m(self, *args)\u001b[0m\n\u001b[0;32m   1319\u001b[0m \u001b[1;33m\u001b[0m\u001b[0m\n\u001b[0;32m   1320\u001b[0m         \u001b[0manswer\u001b[0m \u001b[1;33m=\u001b[0m \u001b[0mself\u001b[0m\u001b[1;33m.\u001b[0m\u001b[0mgateway_client\u001b[0m\u001b[1;33m.\u001b[0m\u001b[0msend_command\u001b[0m\u001b[1;33m(\u001b[0m\u001b[0mcommand\u001b[0m\u001b[1;33m)\u001b[0m\u001b[1;33m\u001b[0m\u001b[1;33m\u001b[0m\u001b[0m\n\u001b[1;32m-> 1321\u001b[1;33m         return_value = get_return_value(\n\u001b[0m\u001b[0;32m   1322\u001b[0m             answer, self.gateway_client, self.target_id, self.name)\n\u001b[0;32m   1323\u001b[0m \u001b[1;33m\u001b[0m\u001b[0m\n",
      "\u001b[1;32mC:\\Spark\\python\\pyspark\\sql\\utils.py\u001b[0m in \u001b[0;36mdeco\u001b[1;34m(*a, **kw)\u001b[0m\n\u001b[0;32m    115\u001b[0m                 \u001b[1;31m# Hide where the exception came from that shows a non-Pythonic\u001b[0m\u001b[1;33m\u001b[0m\u001b[1;33m\u001b[0m\u001b[0m\n\u001b[0;32m    116\u001b[0m                 \u001b[1;31m# JVM exception message.\u001b[0m\u001b[1;33m\u001b[0m\u001b[1;33m\u001b[0m\u001b[0m\n\u001b[1;32m--> 117\u001b[1;33m                 \u001b[1;32mraise\u001b[0m \u001b[0mconverted\u001b[0m \u001b[1;32mfrom\u001b[0m \u001b[1;32mNone\u001b[0m\u001b[1;33m\u001b[0m\u001b[1;33m\u001b[0m\u001b[0m\n\u001b[0m\u001b[0;32m    118\u001b[0m             \u001b[1;32melse\u001b[0m\u001b[1;33m:\u001b[0m\u001b[1;33m\u001b[0m\u001b[1;33m\u001b[0m\u001b[0m\n\u001b[0;32m    119\u001b[0m                 \u001b[1;32mraise\u001b[0m\u001b[1;33m\u001b[0m\u001b[1;33m\u001b[0m\u001b[0m\n",
      "\u001b[1;31mAnalysisException\u001b[0m: path file:/C:/projetos/Exportados already exists."
     ]
    }
   ],
   "source": [
    "#!/usr/bin/env python\n",
    "# coding: utf-8\n",
    "#============================================================================================================\n",
    "# NOME DO SCRIPT: exporta_csv.py\n",
    "# FUNCAO: Importar dados para a pasta em formato csv\n",
    "#============================================================================================================\n",
    "# HISTORICO\n",
    "#\n",
    "#============================================================================================================\n",
    "\n",
    "import pyspark\n",
    "import pandas as pd\n",
    "import numpy as np\n",
    "from pyspark.sql.functions import *\n",
    "from pyspark.sql.types import *\n",
    "from pyspark.sql import functions as Func\n",
    "from pyspark.sql import SparkSession\n",
    "\n",
    "spark = SparkSession.builder.appName(\"Importa\").getOrCreate()\n",
    "\n",
    "DADOS_FINAIS = spark.read.csv(\"C:\\Projetos\\Dados\\DADOS_FINAIS.csv\", header=True, inferSchema=True, sep=\";\")\n",
    "DADOS_FINAIS.show()\n",
    "\n",
    "DADOS_FINAIS.schema\n",
    "\n",
    "DADOS_FINAIS.write.format(\"csv\").save(\"C:\\projetos\\Exportados\")\n",
    "\n",
    "\n",
    "\n",
    "\n"
   ]
  },
  {
   "cell_type": "code",
   "execution_count": null,
   "id": "24fea57e",
   "metadata": {},
   "outputs": [],
   "source": []
  }
 ],
 "metadata": {
  "kernelspec": {
   "display_name": "Python 3 (ipykernel)",
   "language": "python",
   "name": "python3"
  },
  "language_info": {
   "codemirror_mode": {
    "name": "ipython",
    "version": 3
   },
   "file_extension": ".py",
   "mimetype": "text/x-python",
   "name": "python",
   "nbconvert_exporter": "python",
   "pygments_lexer": "ipython3",
   "version": "3.9.7"
  }
 },
 "nbformat": 4,
 "nbformat_minor": 5
}
