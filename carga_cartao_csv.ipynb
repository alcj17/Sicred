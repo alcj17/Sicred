{
 "cells": [
  {
   "cell_type": "code",
   "execution_count": 5,
   "id": "c0e5e2da",
   "metadata": {},
   "outputs": [
    {
     "name": "stdout",
     "output_type": "stream",
     "text": [
      "+---------+-------------------+--------------------+--------+------------+\n",
      "|id_cartao|         num_cartao|        nom_impresso|id_conta|id_associado|\n",
      "+---------+-------------------+--------------------+--------+------------+\n",
      "|        1|5180 4793 3841 0852|Yuri Levi Claudio...|       1|           1|\n",
      "|        2|4532 5429 2955 4863|Elias Matheus Hei...|       2|           2|\n",
      "|        3|  3790 117604 51831|Luiz Thiago Teixeira|       3|           3|\n",
      "|        4|5108 6119 0111 9580|Lavinia Luna Freitas|       4|           4|\n",
      "|        5|5574 7903 1345 5496|Eduardo Vinicius ...|       5|           5|\n",
      "|        6|5248 0535 9875 7599|Cristiane Bruna S...|       6|           6|\n",
      "|        7|4485 1493 0944 0726|Sabrina Ayla Simo...|       7|           7|\n",
      "|        8|4485 4100 4999 2537|Martin Heitor Rua...|       8|           8|\n",
      "|        9|5137 2647 7235 2917|Francisca Andreia...|       9|           9|\n",
      "|       10|4453 2855 8693 0910|Tomas AndrE Joaqu...|      10|          10|\n",
      "+---------+-------------------+--------------------+--------+------------+\n",
      "\n",
      "Iniciando a Carga no POstgresql\n",
      "+---------+-------------------+--------------------+--------+------------+\n",
      "|id_cartao|         num_cartao|        nom_impresso|id_conta|id_associado|\n",
      "+---------+-------------------+--------------------+--------+------------+\n",
      "|        1|5180 4793 3841 0852|Yuri Levi Claudio...|       1|           1|\n",
      "|        2|4532 5429 2955 4863|Elias Matheus Hei...|       2|           2|\n",
      "|        3|  3790 117604 51831|Luiz Thiago Teixeira|       3|           3|\n",
      "|        4|5108 6119 0111 9580|Lavinia Luna Freitas|       4|           4|\n",
      "|        5|5574 7903 1345 5496|Eduardo Vinicius ...|       5|           5|\n",
      "|        6|5248 0535 9875 7599|Cristiane Bruna S...|       6|           6|\n",
      "|        7|4485 1493 0944 0726|Sabrina Ayla Simo...|       7|           7|\n",
      "|        8|4485 4100 4999 2537|Martin Heitor Rua...|       8|           8|\n",
      "|        9|5137 2647 7235 2917|Francisca Andreia...|       9|           9|\n",
      "|       10|4453 2855 8693 0910|Tomas AndrE Joaqu...|      10|          10|\n",
      "+---------+-------------------+--------------------+--------+------------+\n",
      "\n"
     ]
    }
   ],
   "source": [
    "#!/usr/bin/env python\n",
    "# coding: utf-8\n",
    "#============================================================================================================\n",
    "# NOME DO SCRIPT: carga_cartao_csv.py\n",
    "# FUNCAO: Importar dados para a tabela cartão no postgresql\n",
    "#============================================================================================================\n",
    "# HISTORICO\n",
    "#\n",
    "#============================================================================================================\n",
    "\n",
    "import pyspark\n",
    "from pyspark.sql.functions import *\n",
    "from pyspark.sql.types import *\n",
    "from pyspark.sql import functions as Func\n",
    "from pyspark.sql import SparkSession\n",
    "\n",
    "spark = SparkSession.builder.appName(\"Importa\").getOrCreate()\n",
    "\n",
    "arq = spark.read.csv(\"C:\\Projetos\\Dados\\CARTAO.csv\", header=True, inferSchema=True, sep=\";\")\n",
    "arq.show()\n",
    "\n",
    "grava_associado = arq.withColumnRenamed(\"ID_CARTAO\",\"ID_CARTAO\")\\\n",
    ".withColumnRenamed(\"num_cartao\",\"num_cartao\")\\\n",
    ".withColumnRenamed(\"nom_impresso\",\"nom_impresso\")\\\n",
    ".withColumnRenamed(\"id_conta\",\"id_conta\")\\\n",
    ".withColumnRenamed(\"id_associado\",\"id_associado\")\n",
    "\n",
    "\n",
    "\n",
    "#Iniciando leitura no Postgresql\n",
    "\n",
    "print(\"Iniciando a Carga no POstgresql\")\n",
    "\n",
    "# Data in existing table can be append using below\n",
    "\n",
    "resumo = spark.read.format(\"jdbc\").option(\"url\",\"jdbc:postgresql://localhost:5432/desafio\")\\\n",
    ".option(\"dbtable\",\"cartao\").option(\"user\",\"postgres\")\\\n",
    ".option(\"password\",\"123\")\\\n",
    ".option(\"driver\",\"org.postgresql.Driver\").load()\n",
    "\n",
    "\n",
    "grava_associado.write.format(\"jdbc\")\\\n",
    ".option(\"driver\",\"org.postgresql.Driver\")\\\n",
    ".option(\"url\",\"jdbc:postgresql://localhost:5432/desafio\")\\\n",
    ".option(\"user\",\"postgres\")\\\n",
    ".option(\"password\",\"123\").mode('append').option(\"dbtable\",\"cartao\").save()\n",
    "\n",
    "\n",
    "resumo.show()"
   ]
  },
  {
   "cell_type": "code",
   "execution_count": null,
   "id": "a0d7c46b",
   "metadata": {},
   "outputs": [],
   "source": []
  }
 ],
 "metadata": {
  "kernelspec": {
   "display_name": "Python 3 (ipykernel)",
   "language": "python",
   "name": "python3"
  },
  "language_info": {
   "codemirror_mode": {
    "name": "ipython",
    "version": 3
   },
   "file_extension": ".py",
   "mimetype": "text/x-python",
   "name": "python",
   "nbconvert_exporter": "python",
   "pygments_lexer": "ipython3",
   "version": "3.9.7"
  }
 },
 "nbformat": 4,
 "nbformat_minor": 5
}
